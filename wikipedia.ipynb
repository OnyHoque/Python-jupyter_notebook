{
 "cells": [
  {
   "cell_type": "code",
   "execution_count": 4,
   "metadata": {},
   "outputs": [],
   "source": [
    "import wikipedia"
   ]
  },
  {
   "cell_type": "code",
   "execution_count": 50,
   "metadata": {},
   "outputs": [],
   "source": [
    "def getList(query):\n",
    "    return wikipedia.search(query)\n",
    "def query(word):\n",
    "    lst = getList(word)\n",
    "    print('are you looking for one of this topics?')\n",
    "    for i in range(len(lst)):\n",
    "        print(str(i+1)+\". \"+lst[i])\n",
    "    print('\\n\\n\\n\\n')\n",
    "    print('printing information for: '+lst[0])\n",
    "    print('=======================================')\n",
    "    page = wikipedia.page(lst[0])\n",
    "    lines = page.content.split('.')\n",
    "    for line in range(10):\n",
    "        print(lines[line],end='.')"
   ]
  },
  {
   "cell_type": "code",
   "execution_count": 51,
   "metadata": {},
   "outputs": [
    {
     "name": "stdout",
     "output_type": "stream",
     "text": [
      "are you looking for one of this topics?\n",
      "1. BRAC University\n",
      "2. BRAC (organisation)\n",
      "3. BRAC\n",
      "4. Brač\n",
      "5. Rafiath Rashid Mithila\n",
      "6. BRAC Onnesha\n",
      "7. Vincent Chang (academic)\n",
      "8. Fazle Hasan Abed\n",
      "9. Susan Davis (author)\n",
      "10. Yahoo (Gulliver's Travels)\n",
      "\n",
      "\n",
      "\n",
      "\n",
      "\n",
      "printing information for: BRAC University\n",
      "=======================================\n",
      "BRAC University (BRACU) is a private University in Bangladesh. It was founded as a branch of the BRAC organization by Sir Fazle Hasan Abed in 2001 under the Private University Act.\n",
      "\n",
      "\n",
      "== History ==\n",
      "Fazle Hasan Abed, a Bangladeshi social worker is the founder of BRAC University.\n",
      "\n",
      "\n",
      "== Campus ==\n",
      "The campus of BRACU is located at Mohakhali, Dhaka. BRAC University New Campus is located in the centre of communication at KHA 224, Progati Sarani, Merul Badda, Dhaka 1212. It is close to Hatirjhil, Rampura, Aftabnagar, Banasree, Niketon, Mohakhali, Gulshan, Banani and Baridhara Residential Areas. Total land area of the project is 5 acres and building will have a total of 17,00,000 square feet. It is a 13 storey building with 3 basements. There is an auditorium with 700 seats, a multipurpose hall with 1850 seats, classrooms, labs, design studios, lecture theatres, 475 car parking places, rooftop playground, park, vertical transportation, substations, data centre for IT related use, UPS, CCTVs, solar panels, lifts, escalators, stairs, fire escapes, faculty and administrative offices, teacher’s lounges, a cafeteria, an e-library, recreation facilities and a lake.\n",
      "It has facilities to accommodate around 12,000-15,000 students."
     ]
    }
   ],
   "source": [
    "query('brac university')"
   ]
  },
  {
   "cell_type": "code",
   "execution_count": 32,
   "metadata": {},
   "outputs": [
    {
     "data": {
      "text/plain": [
       "'OnyX'"
      ]
     },
     "execution_count": 32,
     "metadata": {},
     "output_type": "execute_result"
    }
   ],
   "source": [
    "lst[0]"
   ]
  },
  {
   "cell_type": "code",
   "execution_count": 36,
   "metadata": {},
   "outputs": [],
   "source": [
    "page = wikipedia.page(lst[0])"
   ]
  },
  {
   "cell_type": "code",
   "execution_count": 37,
   "metadata": {},
   "outputs": [],
   "source": [
    "lines = page.content.split('.')"
   ]
  },
  {
   "cell_type": "code",
   "execution_count": 38,
   "metadata": {},
   "outputs": [
    {
     "name": "stdout",
     "output_type": "stream",
     "text": [
      "OnyX is a popular freeware utility for macOS developed by French developer Joël Barrière that is compatible with both PowerPC and Intel processors. As a multifunctional tool for maintenance and optimization, it can control many basic Unix programs already built into macOS, including setting hidden preferences otherwise modified by using property list editors and the command line.\n",
      "\n",
      "\n",
      "== Features ==\n",
      "Verify the structure of the file system on the start-up volume\n",
      "Repair disk permissions\n",
      "Configure certain parameters hidden from the system and from certain applications\n",
      "Empty System, User, Internet, Font caches\n",
      "Force Empty the Trash\n",
      "Rebuild Launch Services, CoreDuet database, XPC Cache...\n",
      "Rebuild Spotlight and Mail indexes\n",
      "\n",
      "\n",
      "== Development ==\n",
      "Created in 2003 by Joël Barrière, a.k.a. Titanium, the program was originally meant to address its creator's personal needs. Developed using Xcode, Apple's software development environment (Cocoa + AppleScript Studio + Objective-C), OnyX is regularly updated by its author taking into consideration users' suggestions and requests. To do its job, the program uses macOS's standard Unix utilities, allowing their control through a graphical user interface without needing the command line.\n",
      "\n",
      "\n",
      "== Versions ==\n",
      "OnyX versions are specific to each version of macOS and are not backward compatible. The program will not work correctly if used with an OS for which it was not designed.\n",
      "\n",
      "Mac OS X 10.2 Jaguar: OnyX version 1.3.1\n",
      "Mac OS X 10.3 Panther: OnyX version 1.5.3\n",
      "Mac OS X 10."
     ]
    }
   ],
   "source": [
    "for line in range(20):\n",
    "    print(lines[line],end='.')"
   ]
  },
  {
   "cell_type": "code",
   "execution_count": null,
   "metadata": {},
   "outputs": [],
   "source": []
  }
 ],
 "metadata": {
  "kernelspec": {
   "display_name": "Python 3",
   "language": "python",
   "name": "python3"
  },
  "language_info": {
   "codemirror_mode": {
    "name": "ipython",
    "version": 3
   },
   "file_extension": ".py",
   "mimetype": "text/x-python",
   "name": "python",
   "nbconvert_exporter": "python",
   "pygments_lexer": "ipython3",
   "version": "3.7.4"
  }
 },
 "nbformat": 4,
 "nbformat_minor": 2
}
