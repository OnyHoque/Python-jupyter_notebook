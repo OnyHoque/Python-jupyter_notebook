{
 "cells": [
  {
   "cell_type": "code",
   "execution_count": 1,
   "metadata": {},
   "outputs": [],
   "source": [
    "import numpy as np"
   ]
  },
  {
   "cell_type": "code",
   "execution_count": 5,
   "metadata": {},
   "outputs": [],
   "source": [
    "lst = [[1,2,3],[4,5,6],[7,8,9]]"
   ]
  },
  {
   "cell_type": "code",
   "execution_count": 6,
   "metadata": {},
   "outputs": [],
   "source": [
    "#Python list to Numpy array\n",
    "arr = np.array(lst)"
   ]
  },
  {
   "cell_type": "code",
   "execution_count": 7,
   "metadata": {},
   "outputs": [
    {
     "data": {
      "text/plain": [
       "array([[1, 2, 3],\n",
       "       [4, 5, 6],\n",
       "       [7, 8, 9]])"
      ]
     },
     "execution_count": 7,
     "metadata": {},
     "output_type": "execute_result"
    }
   ],
   "source": [
    "arr"
   ]
  },
  {
   "cell_type": "code",
   "execution_count": 10,
   "metadata": {},
   "outputs": [
    {
     "data": {
      "text/plain": [
       "array([0, 2, 4, 6, 8])"
      ]
     },
     "execution_count": 10,
     "metadata": {},
     "output_type": "execute_result"
    }
   ],
   "source": [
    "#create numpy array from range\n",
    "np.arange(0,10) #arange(start, end)\n",
    "np.arange(0,10,2) #arange(start, end, steps)"
   ]
  },
  {
   "cell_type": "code",
   "execution_count": 14,
   "metadata": {
    "collapsed": true
   },
   "outputs": [
    {
     "data": {
      "text/plain": [
       "array([ 0.        ,  0.09090909,  0.18181818,  0.27272727,  0.36363636,\n",
       "        0.45454545,  0.54545455,  0.63636364,  0.72727273,  0.81818182,\n",
       "        0.90909091,  1.        ,  1.09090909,  1.18181818,  1.27272727,\n",
       "        1.36363636,  1.45454545,  1.54545455,  1.63636364,  1.72727273,\n",
       "        1.81818182,  1.90909091,  2.        ,  2.09090909,  2.18181818,\n",
       "        2.27272727,  2.36363636,  2.45454545,  2.54545455,  2.63636364,\n",
       "        2.72727273,  2.81818182,  2.90909091,  3.        ,  3.09090909,\n",
       "        3.18181818,  3.27272727,  3.36363636,  3.45454545,  3.54545455,\n",
       "        3.63636364,  3.72727273,  3.81818182,  3.90909091,  4.        ,\n",
       "        4.09090909,  4.18181818,  4.27272727,  4.36363636,  4.45454545,\n",
       "        4.54545455,  4.63636364,  4.72727273,  4.81818182,  4.90909091,\n",
       "        5.        ,  5.09090909,  5.18181818,  5.27272727,  5.36363636,\n",
       "        5.45454545,  5.54545455,  5.63636364,  5.72727273,  5.81818182,\n",
       "        5.90909091,  6.        ,  6.09090909,  6.18181818,  6.27272727,\n",
       "        6.36363636,  6.45454545,  6.54545455,  6.63636364,  6.72727273,\n",
       "        6.81818182,  6.90909091,  7.        ,  7.09090909,  7.18181818,\n",
       "        7.27272727,  7.36363636,  7.45454545,  7.54545455,  7.63636364,\n",
       "        7.72727273,  7.81818182,  7.90909091,  8.        ,  8.09090909,\n",
       "        8.18181818,  8.27272727,  8.36363636,  8.45454545,  8.54545455,\n",
       "        8.63636364,  8.72727273,  8.81818182,  8.90909091,  9.        ,\n",
       "        9.09090909,  9.18181818,  9.27272727,  9.36363636,  9.45454545,\n",
       "        9.54545455,  9.63636364,  9.72727273,  9.81818182,  9.90909091,\n",
       "       10.        ])"
      ]
     },
     "execution_count": 14,
     "metadata": {},
     "output_type": "execute_result"
    }
   ],
   "source": [
    "#create array with n elements that have equal spacing between\n",
    "np.linspace(0,10,111) #linspace(start,stop,n)"
   ]
  },
  {
   "cell_type": "code",
   "execution_count": 15,
   "metadata": {},
   "outputs": [
    {
     "data": {
      "text/plain": [
       "array([[1., 0., 0.],\n",
       "       [0., 1., 0.],\n",
       "       [0., 0., 1.]])"
      ]
     },
     "execution_count": 15,
     "metadata": {},
     "output_type": "execute_result"
    }
   ],
   "source": [
    "#numpy identity metrix\n",
    "np.eye(3)"
   ]
  },
  {
   "cell_type": "code",
   "execution_count": 19,
   "metadata": {},
   "outputs": [
    {
     "data": {
      "text/plain": [
       "array([[[0.85994244, 0.81069829],\n",
       "        [0.07096082, 0.39547221]],\n",
       "\n",
       "       [[0.99890938, 0.35784929],\n",
       "        [0.06743457, 0.60609141]]])"
      ]
     },
     "execution_count": 19,
     "metadata": {},
     "output_type": "execute_result"
    }
   ],
   "source": [
    "#numpy ransom array\n",
    "np.random.rand(2,2,2) #u can make any dimentions"
   ]
  },
  {
   "cell_type": "code",
   "execution_count": 21,
   "metadata": {},
   "outputs": [
    {
     "data": {
      "text/plain": [
       "array([5, 9])"
      ]
     },
     "execution_count": 21,
     "metadata": {},
     "output_type": "execute_result"
    }
   ],
   "source": [
    "#numpy random number\n",
    "np.random.randint(1,10) #singe value \n",
    "np.random.randint(1,10,2) #randint(start,end, number of values) "
   ]
  },
  {
   "cell_type": "code",
   "execution_count": 23,
   "metadata": {},
   "outputs": [],
   "source": [
    "arr = np.random.randint(0,50,15)"
   ]
  },
  {
   "cell_type": "code",
   "execution_count": 27,
   "metadata": {},
   "outputs": [],
   "source": [
    "#reshape 1 d array to (m,n) d\n",
    "arr = arr.reshape(5,3)"
   ]
  },
  {
   "cell_type": "code",
   "execution_count": 28,
   "metadata": {},
   "outputs": [
    {
     "data": {
      "text/plain": [
       "0"
      ]
     },
     "execution_count": 28,
     "metadata": {},
     "output_type": "execute_result"
    }
   ],
   "source": [
    "#get max value from arrary\n",
    "arr.max()\n",
    "#get min value from array\n",
    "arr.min()"
   ]
  },
  {
   "cell_type": "code",
   "execution_count": 29,
   "metadata": {},
   "outputs": [
    {
     "data": {
      "text/plain": [
       "array([[ 7, 43,  0],\n",
       "       [27, 32, 19],\n",
       "       [24,  3,  3],\n",
       "       [20, 18, 43],\n",
       "       [45, 19, 38]])"
      ]
     },
     "execution_count": 29,
     "metadata": {},
     "output_type": "execute_result"
    }
   ],
   "source": [
    "arr"
   ]
  },
  {
   "cell_type": "code",
   "execution_count": 36,
   "metadata": {},
   "outputs": [],
   "source": [
    "arr = arr.reshape(1,15)"
   ]
  },
  {
   "cell_type": "code",
   "execution_count": 38,
   "metadata": {},
   "outputs": [],
   "source": [
    "arr = arr[0]"
   ]
  },
  {
   "cell_type": "code",
   "execution_count": 39,
   "metadata": {},
   "outputs": [
    {
     "data": {
      "text/plain": [
       "array([ 7, 43,  0, 27, 32, 19, 24,  3,  3, 20, 18, 43, 45, 19, 38])"
      ]
     },
     "execution_count": 39,
     "metadata": {},
     "output_type": "execute_result"
    }
   ],
   "source": [
    "arr"
   ]
  },
  {
   "cell_type": "code",
   "execution_count": null,
   "metadata": {},
   "outputs": [],
   "source": []
  }
 ],
 "metadata": {
  "kernelspec": {
   "display_name": "Python 3",
   "language": "python",
   "name": "python3"
  },
  "language_info": {
   "codemirror_mode": {
    "name": "ipython",
    "version": 3
   },
   "file_extension": ".py",
   "mimetype": "text/x-python",
   "name": "python",
   "nbconvert_exporter": "python",
   "pygments_lexer": "ipython3",
   "version": "3.7.1"
  }
 },
 "nbformat": 4,
 "nbformat_minor": 2
}
