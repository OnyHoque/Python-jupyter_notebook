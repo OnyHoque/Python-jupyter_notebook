{
 "cells": [
  {
   "cell_type": "code",
   "execution_count": 1,
   "metadata": {},
   "outputs": [],
   "source": [
    "import sqlite3"
   ]
  },
  {
   "cell_type": "code",
   "execution_count": 2,
   "metadata": {},
   "outputs": [],
   "source": [
    "conn = sqlite3.connect('test.db')"
   ]
  },
  {
   "cell_type": "code",
   "execution_count": 4,
   "metadata": {},
   "outputs": [
    {
     "data": {
      "text/plain": [
       "<sqlite3.Cursor at 0x24e6f8e2730>"
      ]
     },
     "execution_count": 4,
     "metadata": {},
     "output_type": "execute_result"
    }
   ],
   "source": [
    "#Create table\n",
    "table = \"\"\"CREATE TABLE IF NOT EXISTS user(\n",
    "        id INTEGER PRIMARY KEY,\n",
    "        name TEXT,\n",
    "        email TEXT\n",
    "        );\"\"\"\n",
    "conn.execute(table)"
   ]
  },
  {
   "cell_type": "code",
   "execution_count": 5,
   "metadata": {},
   "outputs": [
    {
     "data": {
      "text/plain": [
       "<sqlite3.Cursor at 0x24e6ffc1260>"
      ]
     },
     "execution_count": 5,
     "metadata": {},
     "output_type": "execute_result"
    }
   ],
   "source": [
    "#insert\n",
    "insert = \"INSERT INTO user VALUES(1,'Ony H', 'onyH@gmail.com')\"\n",
    "conn.execute(insert)"
   ]
  },
  {
   "cell_type": "code",
   "execution_count": 8,
   "metadata": {},
   "outputs": [],
   "source": [
    "#insert\n",
    "for i in range(2000,100000):\n",
    "    j = str(i)\n",
    "    insert = \"INSERT INTO user VALUES(\"+j+\",'Ony H\"+j+\"', 'onyH\"+j+\"@gmail.com')\"\n",
    "    conn.execute(insert)"
   ]
  },
  {
   "cell_type": "code",
   "execution_count": 18,
   "metadata": {},
   "outputs": [
    {
     "name": "stdout",
     "output_type": "stream",
     "text": [
      "1  Ony Hoque  onyH@gmail.com\n",
      "2  Ony H2  onyH2@gmail.com\n",
      "3  Ony H3  onyH3@gmail.com\n",
      "4  Ony H4  onyH4@gmail.com\n",
      "5  Ony H5  onyH5@gmail.com\n",
      "6  Ony H6  onyH6@gmail.com\n",
      "7  Ony H7  onyH7@gmail.com\n",
      "8  Ony H8  onyH8@gmail.com\n",
      "9  Ony H9  onyH9@gmail.com\n"
     ]
    }
   ],
   "source": [
    "#show data\n",
    "rows = conn.execute(\"SELECT * FROM user\")\n",
    "for row in rows:\n",
    "    string = str(row[0])+\"  \"+row[1]+\"  \"+row[2]\n",
    "    print(string)"
   ]
  },
  {
   "cell_type": "code",
   "execution_count": 11,
   "metadata": {},
   "outputs": [
    {
     "data": {
      "text/plain": [
       "<sqlite3.Cursor at 0x24e6f563b90>"
      ]
     },
     "execution_count": 11,
     "metadata": {},
     "output_type": "execute_result"
    }
   ],
   "source": [
    "#update\n",
    "update = \"UPDATE user SET name='Ony Hoque' WHERE id=1\"\n",
    "conn.execute(update)"
   ]
  },
  {
   "cell_type": "code",
   "execution_count": 17,
   "metadata": {},
   "outputs": [],
   "source": [
    "#delete\n",
    "for i in range(10,100):\n",
    "    delete = \"DELETE FROM user WHERE ID=\"+str(i)\n",
    "    conn.execute(delete)"
   ]
  },
  {
   "cell_type": "code",
   "execution_count": null,
   "metadata": {},
   "outputs": [],
   "source": []
  }
 ],
 "metadata": {
  "kernelspec": {
   "display_name": "Python 3",
   "language": "python",
   "name": "python3"
  },
  "language_info": {
   "codemirror_mode": {
    "name": "ipython",
    "version": 3
   },
   "file_extension": ".py",
   "mimetype": "text/x-python",
   "name": "python",
   "nbconvert_exporter": "python",
   "pygments_lexer": "ipython3",
   "version": "3.7.1"
  }
 },
 "nbformat": 4,
 "nbformat_minor": 2
}
